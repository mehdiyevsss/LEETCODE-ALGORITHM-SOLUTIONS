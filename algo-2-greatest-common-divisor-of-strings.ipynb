{
 "cells": [
  {
   "cell_type": "code",
   "execution_count": null,
   "metadata": {},
   "outputs": [],
   "source": [
    "class Solution(object):\n",
    "    def gcdOfStrings(self, str1, str2):\n",
    "        \n",
    "        \n",
    "        word1l=list(str1)\n",
    "        word2l=list(str2)\n",
    "        res=[]\n",
    "        if str1 in str2:\n",
    "            for i in word1l:\n",
    "                if i in word2l:\n",
    "                    ind=word2l.index(i)\n",
    "                    if word1l[ind] not in res:\n",
    "                        res.append(word1l[ind])\n",
    "\n",
    "        if str2 in str1:\n",
    "            for i in word2l:\n",
    "                if i in word1l:\n",
    "                    ind=word1l.index(i)\n",
    "                    if word2l[ind] not in res:\n",
    "\n",
    "                        res.append(word2l[ind])\n",
    "        res=\"\".join(res)\n",
    "\n",
    "        return res\n",
    "        "
   ]
  }
 ],
 "metadata": {
  "kernelspec": {
   "display_name": "Python 3",
   "language": "python",
   "name": "python3"
  },
  "language_info": {
   "codemirror_mode": {
    "name": "ipython",
    "version": 3
   },
   "file_extension": ".py",
   "mimetype": "text/x-python",
   "name": "python",
   "nbconvert_exporter": "python",
   "pygments_lexer": "ipython3",
   "version": "3.11.2"
  }
 },
 "nbformat": 4,
 "nbformat_minor": 2
}

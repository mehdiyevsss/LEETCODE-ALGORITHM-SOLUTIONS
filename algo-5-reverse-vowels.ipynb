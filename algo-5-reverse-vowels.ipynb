{
 "cells": [
  {
   "cell_type": "code",
   "execution_count": 10,
   "metadata": {},
   "outputs": [],
   "source": [
    "class Solution(object):\n",
    "    def reverseVowels(self, s):\n",
    "        \n",
    "        ss = list(s)\n",
    "        vowels = ['a', 'e', 'i', 'o', 'u']\n",
    "        ev = []  \n",
    "        iv = []  \n",
    "\n",
    "        for index, char in enumerate(ss):\n",
    "            if char in vowels:\n",
    "                iv.append(index)\n",
    "                ev.append(char)\n",
    "\n",
    "        ev.reverse()  \n",
    "\n",
    "        for index, vowel_index in enumerate(iv):\n",
    "            ss[vowel_index] = ev[index]\n",
    "\n",
    "        res = \"\".join(ss)\n",
    "\n",
    "        return res"
   ]
  }
 ],
 "metadata": {
  "kernelspec": {
   "display_name": "Python 3",
   "language": "python",
   "name": "python3"
  },
  "language_info": {
   "codemirror_mode": {
    "name": "ipython",
    "version": 3
   },
   "file_extension": ".py",
   "mimetype": "text/x-python",
   "name": "python",
   "nbconvert_exporter": "python",
   "pygments_lexer": "ipython3",
   "version": "3.11.2"
  }
 },
 "nbformat": 4,
 "nbformat_minor": 2
}

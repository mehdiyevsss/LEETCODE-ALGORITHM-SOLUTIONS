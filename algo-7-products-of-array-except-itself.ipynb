{
 "cells": [
  {
   "cell_type": "code",
   "execution_count": 12,
   "metadata": {},
   "outputs": [],
   "source": [
    "class Solution(object):\n",
    "    def productExceptSelf(self, nums):\n",
    "        length = len(nums)\n",
    "        left, right, answer = [0]*length, [0]*length, [0]*length\n",
    "    \n",
    "    \n",
    "        left[0] = 1\n",
    "        for i in range(1, length):\n",
    "            left[i] = nums[i - 1] * left[i - 1]\n",
    "    \n",
    "        right[length - 1] = 1\n",
    "        for i in reversed(range(length - 1)):\n",
    "            right[i] = nums[i + 1] * right[i + 1]\n",
    "    \n",
    "        for i in range(length):\n",
    "            answer[i] = left[i] * right[i]\n",
    "    \n",
    "        return answer\n",
    "        "
   ]
  }
 ],
 "metadata": {
  "kernelspec": {
   "display_name": "Python 3",
   "language": "python",
   "name": "python3"
  },
  "language_info": {
   "codemirror_mode": {
    "name": "ipython",
    "version": 3
   },
   "file_extension": ".py",
   "mimetype": "text/x-python",
   "name": "python",
   "nbconvert_exporter": "python",
   "pygments_lexer": "ipython3",
   "version": "3.11.2"
  }
 },
 "nbformat": 4,
 "nbformat_minor": 2
}

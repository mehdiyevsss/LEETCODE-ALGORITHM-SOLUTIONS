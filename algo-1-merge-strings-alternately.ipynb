{
 "cells": [
  {
   "cell_type": "code",
   "execution_count": null,
   "metadata": {
    "vscode": {
     "languageId": "plaintext"
    }
   },
   "outputs": [],
   "source": [
    "class Solution(object):\n",
    "    def mergeAlternately(self, word1, word2):\n",
    "        \n",
    "        reswordl=[]\n",
    "        word1l=list(word1)\n",
    "        word2l=list(word2)\n",
    "        length=len(word1l)+len(word2l)\n",
    "        for i in range(length-1):\n",
    "            if i<len(word1):\n",
    "                reswordl.append(word1l[i])\n",
    "        \n",
    "            if i<len(word2):\n",
    "                reswordl.append(word2l[i])\n",
    "        \n",
    "        resword=\"\".join(reswordl)\n",
    "        return resword\n"
   ]
  }
 ],
 "metadata": {
  "kernelspec": {
   "display_name": "Python 3",
   "language": "python",
   "name": "python3"
  },
  "language_info": {
   "codemirror_mode": {
    "name": "ipython",
    "version": 3
   },
   "file_extension": ".py",
   "mimetype": "text/x-python",
   "name": "python",
   "nbconvert_exporter": "python",
   "pygments_lexer": "ipython3",
   "version": "3.11.2"
  }
 },
 "nbformat": 4,
 "nbformat_minor": 2
}
